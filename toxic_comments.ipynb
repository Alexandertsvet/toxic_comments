{
 "cells": [
  {
   "cell_type": "code",
   "execution_count": 217,
   "metadata": {},
   "outputs": [],
   "source": [
    "import pandas as pd\n",
    "import numpy as np\n",
    "import re\n",
    "import matplotlib.pyplot as plt \n",
    "from tqdm import tqdm\n",
    "import nltk"
   ]
  },
  {
   "cell_type": "code",
   "execution_count": 218,
   "metadata": {},
   "outputs": [],
   "source": [
    "from sklearn.model_selection import train_test_split\n",
    "from sklearn.feature_extraction.text import TfidfVectorizer, TfidfTransformer\n",
    "import nltk\n",
    "from sklearn.metrics import f1_score\n",
    "from sklearn.linear_model import LogisticRegression\n",
    "from sklearn.tree import DecisionTreeClassifier\n",
    "from sklearn.ensemble import RandomForestClassifier\n",
    "from sklearn.model_selection import cross_val_score\n",
    "from sklearn.model_selection import GridSearchCV\n",
    "from sklearn.feature_extraction.text import HashingVectorizer\n",
    "from sklearn.linear_model import SGDClassifier"
   ]
  },
  {
   "cell_type": "code",
   "execution_count": 219,
   "metadata": {},
   "outputs": [
    {
     "name": "stderr",
     "output_type": "stream",
     "text": [
      "[nltk_data] Downloading package stopwords to\n",
      "[nltk_data]     /home/alexandr/nltk_data...\n",
      "[nltk_data]   Package stopwords is already up-to-date!\n",
      "[nltk_data] Downloading package punkt to /home/alexandr/nltk_data...\n",
      "[nltk_data]   Package punkt is already up-to-date!\n",
      "[nltk_data] Downloading package punkt_tab to\n",
      "[nltk_data]     /home/alexandr/nltk_data...\n",
      "[nltk_data]   Package punkt_tab is already up-to-date!\n"
     ]
    },
    {
     "data": {
      "text/plain": [
       "True"
      ]
     },
     "execution_count": 219,
     "metadata": {},
     "output_type": "execute_result"
    }
   ],
   "source": [
    "nltk.download('stopwords')\n",
    "nltk.download('punkt')\n",
    "nltk.download('punkt_tab')"
   ]
  },
  {
   "cell_type": "code",
   "execution_count": 220,
   "metadata": {},
   "outputs": [],
   "source": [
    "plt.style.use('seaborn-v0_8-bright')"
   ]
  },
  {
   "cell_type": "code",
   "execution_count": 221,
   "metadata": {},
   "outputs": [],
   "source": [
    "try:\n",
    "    data_1 = pd.read_csv('data/labeled.csv')\n",
    "    data_2 = pd.read_csv('data/russian_comments_from_2ch_pikabu.csv')\n",
    "    data_3 = pd.read_fwf('data/dataset.txt',header=None)\n",
    "    bad_words = pd.read_csv('data/bad_words.txt', names = ['bad_words'])\n",
    "except:\n",
    "    print('error')"
   ]
  },
  {
   "cell_type": "code",
   "execution_count": 222,
   "metadata": {},
   "outputs": [
    {
     "data": {
      "text/html": [
       "<div>\n",
       "<style scoped>\n",
       "    .dataframe tbody tr th:only-of-type {\n",
       "        vertical-align: middle;\n",
       "    }\n",
       "\n",
       "    .dataframe tbody tr th {\n",
       "        vertical-align: top;\n",
       "    }\n",
       "\n",
       "    .dataframe thead th {\n",
       "        text-align: right;\n",
       "    }\n",
       "</style>\n",
       "<table border=\"1\" class=\"dataframe\">\n",
       "  <thead>\n",
       "    <tr style=\"text-align: right;\">\n",
       "      <th></th>\n",
       "      <th>comment</th>\n",
       "      <th>toxic</th>\n",
       "    </tr>\n",
       "  </thead>\n",
       "  <tbody>\n",
       "    <tr>\n",
       "      <th>0</th>\n",
       "      <td>Верблюдов-то за что? Дебилы, бл...\\n</td>\n",
       "      <td>1.0</td>\n",
       "    </tr>\n",
       "    <tr>\n",
       "      <th>1</th>\n",
       "      <td>Хохлы, это отдушина затюканого россиянина, мол...</td>\n",
       "      <td>1.0</td>\n",
       "    </tr>\n",
       "    <tr>\n",
       "      <th>2</th>\n",
       "      <td>Собаке - собачья смерть\\n</td>\n",
       "      <td>1.0</td>\n",
       "    </tr>\n",
       "    <tr>\n",
       "      <th>3</th>\n",
       "      <td>Страницу обнови, дебил. Это тоже не оскорблени...</td>\n",
       "      <td>1.0</td>\n",
       "    </tr>\n",
       "    <tr>\n",
       "      <th>4</th>\n",
       "      <td>тебя не убедил 6-страничный пдф в том, что Скр...</td>\n",
       "      <td>1.0</td>\n",
       "    </tr>\n",
       "  </tbody>\n",
       "</table>\n",
       "</div>"
      ],
      "text/plain": [
       "                                             comment  toxic\n",
       "0               Верблюдов-то за что? Дебилы, бл...\\n    1.0\n",
       "1  Хохлы, это отдушина затюканого россиянина, мол...    1.0\n",
       "2                          Собаке - собачья смерть\\n    1.0\n",
       "3  Страницу обнови, дебил. Это тоже не оскорблени...    1.0\n",
       "4  тебя не убедил 6-страничный пдф в том, что Скр...    1.0"
      ]
     },
     "execution_count": 222,
     "metadata": {},
     "output_type": "execute_result"
    }
   ],
   "source": [
    "data_1.head()"
   ]
  },
  {
   "cell_type": "code",
   "execution_count": 223,
   "metadata": {},
   "outputs": [],
   "source": [
    "bad_words = bad_words.sort_values(by='bad_words')"
   ]
  },
  {
   "cell_type": "code",
   "execution_count": 224,
   "metadata": {},
   "outputs": [],
   "source": [
    "data_3 = data_3.iloc[:,[0]]"
   ]
  },
  {
   "cell_type": "code",
   "execution_count": 225,
   "metadata": {},
   "outputs": [],
   "source": [
    "def preprocessing(text):\n",
    "    return text.split(\" \")[0].split('__')[-1]\n",
    "\n",
    "def preprocessing_(text):\n",
    "    return \" \".join(text.split(\" \")[1:])"
   ]
  },
  {
   "cell_type": "code",
   "execution_count": 226,
   "metadata": {},
   "outputs": [
    {
     "data": {
      "text/plain": [
       "array(['INSULT', 'NORMAL', 'THREAT', 'OBSCENITY'], dtype=object)"
      ]
     },
     "execution_count": 226,
     "metadata": {},
     "output_type": "execute_result"
    }
   ],
   "source": [
    "data_3['comment'] = data_3[0].apply(preprocessing_)\n",
    "data_3['toxic'] = data_3[0].apply(preprocessing)\n",
    "data_3['toxic'].unique()"
   ]
  },
  {
   "cell_type": "code",
   "execution_count": 227,
   "metadata": {},
   "outputs": [
    {
     "data": {
      "text/html": [
       "<div>\n",
       "<style scoped>\n",
       "    .dataframe tbody tr th:only-of-type {\n",
       "        vertical-align: middle;\n",
       "    }\n",
       "\n",
       "    .dataframe tbody tr th {\n",
       "        vertical-align: top;\n",
       "    }\n",
       "\n",
       "    .dataframe thead th {\n",
       "        text-align: right;\n",
       "    }\n",
       "</style>\n",
       "<table border=\"1\" class=\"dataframe\">\n",
       "  <thead>\n",
       "    <tr style=\"text-align: right;\">\n",
       "      <th></th>\n",
       "      <th>0</th>\n",
       "      <th>comment</th>\n",
       "      <th>toxic</th>\n",
       "    </tr>\n",
       "  </thead>\n",
       "  <tbody>\n",
       "    <tr>\n",
       "      <th>0</th>\n",
       "      <td>__label__INSULT скотина! что сказать</td>\n",
       "      <td>скотина! что сказать</td>\n",
       "      <td>INSULT</td>\n",
       "    </tr>\n",
       "    <tr>\n",
       "      <th>1</th>\n",
       "      <td>__label__NORMAL я сегодня проезжала по рабочей...</td>\n",
       "      <td>я сегодня проезжала по рабочей и между домами ...</td>\n",
       "      <td>NORMAL</td>\n",
       "    </tr>\n",
       "    <tr>\n",
       "      <th>2</th>\n",
       "      <td>__label__NORMAL очередной лохотрон. зачем прид...</td>\n",
       "      <td>очередной лохотрон. зачем придумывать очередно...</td>\n",
       "      <td>NORMAL</td>\n",
       "    </tr>\n",
       "    <tr>\n",
       "      <th>3</th>\n",
       "      <td>__label__NORMAL ретро дежавю ... сложно понять...</td>\n",
       "      <td>ретро дежавю ... сложно понять чужое сердце , ...</td>\n",
       "      <td>NORMAL</td>\n",
       "    </tr>\n",
       "    <tr>\n",
       "      <th>4</th>\n",
       "      <td>__label__NORMAL а когда мы статус агрогородка ...</td>\n",
       "      <td>а когда мы статус агрогородка получили?</td>\n",
       "      <td>NORMAL</td>\n",
       "    </tr>\n",
       "  </tbody>\n",
       "</table>\n",
       "</div>"
      ],
      "text/plain": [
       "                                                   0  \\\n",
       "0               __label__INSULT скотина! что сказать   \n",
       "1  __label__NORMAL я сегодня проезжала по рабочей...   \n",
       "2  __label__NORMAL очередной лохотрон. зачем прид...   \n",
       "3  __label__NORMAL ретро дежавю ... сложно понять...   \n",
       "4  __label__NORMAL а когда мы статус агрогородка ...   \n",
       "\n",
       "                                             comment   toxic  \n",
       "0                               скотина! что сказать  INSULT  \n",
       "1  я сегодня проезжала по рабочей и между домами ...  NORMAL  \n",
       "2  очередной лохотрон. зачем придумывать очередно...  NORMAL  \n",
       "3  ретро дежавю ... сложно понять чужое сердце , ...  NORMAL  \n",
       "4            а когда мы статус агрогородка получили?  NORMAL  "
      ]
     },
     "execution_count": 227,
     "metadata": {},
     "output_type": "execute_result"
    }
   ],
   "source": [
    "data_3.head()"
   ]
  },
  {
   "cell_type": "code",
   "execution_count": 228,
   "metadata": {},
   "outputs": [],
   "source": [
    "data_3_ = data_3.loc[data_3['toxic']=='INSULT']\n",
    "data_3_n = data_3.loc[data_3['toxic']=='NORMAL']\n",
    "data_3_ = data_3_.drop([0], axis=1)\n",
    "data_3_n = data_3_n.drop([0], axis=1)\n",
    "data_3_['toxic'] = 1\n",
    "data_3_n['toxic'] = 0"
   ]
  },
  {
   "cell_type": "code",
   "execution_count": 229,
   "metadata": {},
   "outputs": [],
   "source": [
    "data_3 = pd.concat([data_3_, data_3_n], axis=0)"
   ]
  },
  {
   "cell_type": "code",
   "execution_count": 230,
   "metadata": {},
   "outputs": [
    {
     "data": {
      "text/html": [
       "<div>\n",
       "<style scoped>\n",
       "    .dataframe tbody tr th:only-of-type {\n",
       "        vertical-align: middle;\n",
       "    }\n",
       "\n",
       "    .dataframe tbody tr th {\n",
       "        vertical-align: top;\n",
       "    }\n",
       "\n",
       "    .dataframe thead th {\n",
       "        text-align: right;\n",
       "    }\n",
       "</style>\n",
       "<table border=\"1\" class=\"dataframe\">\n",
       "  <thead>\n",
       "    <tr style=\"text-align: right;\">\n",
       "      <th></th>\n",
       "      <th>comment</th>\n",
       "      <th>toxic</th>\n",
       "    </tr>\n",
       "  </thead>\n",
       "  <tbody>\n",
       "    <tr>\n",
       "      <th>0</th>\n",
       "      <td>Верблюдов-то за что? Дебилы, бл...\\n</td>\n",
       "      <td>1.0</td>\n",
       "    </tr>\n",
       "    <tr>\n",
       "      <th>1</th>\n",
       "      <td>Хохлы, это отдушина затюканого россиянина, мол...</td>\n",
       "      <td>1.0</td>\n",
       "    </tr>\n",
       "    <tr>\n",
       "      <th>2</th>\n",
       "      <td>Собаке - собачья смерть\\n</td>\n",
       "      <td>1.0</td>\n",
       "    </tr>\n",
       "    <tr>\n",
       "      <th>3</th>\n",
       "      <td>Страницу обнови, дебил. Это тоже не оскорблени...</td>\n",
       "      <td>1.0</td>\n",
       "    </tr>\n",
       "    <tr>\n",
       "      <th>4</th>\n",
       "      <td>тебя не убедил 6-страничный пдф в том, что Скр...</td>\n",
       "      <td>1.0</td>\n",
       "    </tr>\n",
       "  </tbody>\n",
       "</table>\n",
       "</div>"
      ],
      "text/plain": [
       "                                             comment  toxic\n",
       "0               Верблюдов-то за что? Дебилы, бл...\\n    1.0\n",
       "1  Хохлы, это отдушина затюканого россиянина, мол...    1.0\n",
       "2                          Собаке - собачья смерть\\n    1.0\n",
       "3  Страницу обнови, дебил. Это тоже не оскорблени...    1.0\n",
       "4  тебя не убедил 6-страничный пдф в том, что Скр...    1.0"
      ]
     },
     "execution_count": 230,
     "metadata": {},
     "output_type": "execute_result"
    }
   ],
   "source": [
    "data = pd.concat([data_1, data_3], axis=0)\n",
    "data.head()"
   ]
  },
  {
   "cell_type": "code",
   "execution_count": 231,
   "metadata": {},
   "outputs": [
    {
     "data": {
      "text/plain": [
       "toxic\n",
       "0.0    0.864622\n",
       "1.0    0.135378\n",
       "Name: proportion, dtype: float64"
      ]
     },
     "execution_count": 231,
     "metadata": {},
     "output_type": "execute_result"
    }
   ],
   "source": [
    "data['toxic'].value_counts(normalize=True)"
   ]
  },
  {
   "cell_type": "code",
   "execution_count": 232,
   "metadata": {},
   "outputs": [
    {
     "data": {
      "text/plain": [
       "toxic\n",
       "0.0    0.864622\n",
       "1.0    0.135378\n",
       "Name: proportion, dtype: float64"
      ]
     },
     "execution_count": 232,
     "metadata": {},
     "output_type": "execute_result"
    }
   ],
   "source": [
    "no_toxic=data['toxic'].value_counts('any')[0]\n",
    "yes_toxic=data['toxic'].value_counts('any')[1]\n",
    "data['toxic'].value_counts('any')"
   ]
  },
  {
   "cell_type": "code",
   "execution_count": 233,
   "metadata": {},
   "outputs": [
    {
     "data": {
      "image/png": "[encoded data removed]",
      "text/plain": [
       "<Figure size 1300x500 with 1 Axes>"
      ]
     },
     "metadata": {},
     "output_type": "display_data"
    }
   ],
   "source": [
    "plt.figure(figsize=(13, 5))\n",
    "data['toxic'].value_counts().plot(kind='bar',label=f'0-не токсичные коментарии {no_toxic:.2%}, 1- токсичные коментарии {yes_toxic:.2%}')\n",
    "plt.title('Распределение целевого признака')\n",
    "plt.legend(loc=\"upper right\")\n",
    "plt.show();"
   ]
  },
  {
   "cell_type": "code",
   "execution_count": 234,
   "metadata": {},
   "outputs": [],
   "source": [
    "data.duplicated().sum()\n",
    "data.drop_duplicates(inplace=True)"
   ]
  },
  {
   "cell_type": "code",
   "execution_count": 235,
   "metadata": {},
   "outputs": [
    {
     "name": "stdout",
     "output_type": "stream",
     "text": [
      "<class 'pandas.core.frame.DataFrame'>\n",
      "Index: 246647 entries, 0 to 248289\n",
      "Data columns (total 2 columns):\n",
      " #   Column   Non-Null Count   Dtype  \n",
      "---  ------   --------------   -----  \n",
      " 0   comment  246647 non-null  object \n",
      " 1   toxic    246647 non-null  float64\n",
      "dtypes: float64(1), object(1)\n",
      "memory usage: 5.6+ MB\n"
     ]
    }
   ],
   "source": [
    "data.info()"
   ]
  },
  {
   "cell_type": "code",
   "execution_count": 236,
   "metadata": {},
   "outputs": [],
   "source": [
    "data['toxic'] = data['toxic'].astype('int8')"
   ]
  },
  {
   "cell_type": "code",
   "execution_count": 237,
   "metadata": {},
   "outputs": [
    {
     "name": "stdout",
     "output_type": "stream",
     "text": [
      "<class 'pandas.core.frame.DataFrame'>\n",
      "Index: 246647 entries, 0 to 248289\n",
      "Data columns (total 2 columns):\n",
      " #   Column   Non-Null Count   Dtype \n",
      "---  ------   --------------   ----- \n",
      " 0   comment  246647 non-null  object\n",
      " 1   toxic    246647 non-null  int8  \n",
      "dtypes: int8(1), object(1)\n",
      "memory usage: 4.0+ MB\n"
     ]
    }
   ],
   "source": [
    "data.info()"
   ]
  },
  {
   "cell_type": "markdown",
   "metadata": {},
   "source": [
    "# Preprocessing"
   ]
  },
  {
   "cell_type": "code",
   "execution_count": 238,
   "metadata": {},
   "outputs": [],
   "source": [
    "def clear_text(text):\n",
    "    text=re.sub(r\"[^а-яА-Я']\", ' ', text.lower())\n",
    "    text=\" \".join(text.split())\n",
    "    return text"
   ]
  },
  {
   "cell_type": "code",
   "execution_count": 239,
   "metadata": {},
   "outputs": [],
   "source": [
    "data['comment_clear_text'] = data['comment'].apply(clear_text)"
   ]
  },
  {
   "cell_type": "code",
   "execution_count": 240,
   "metadata": {},
   "outputs": [
    {
     "data": {
      "text/html": [
       "<div>\n",
       "<style scoped>\n",
       "    .dataframe tbody tr th:only-of-type {\n",
       "        vertical-align: middle;\n",
       "    }\n",
       "\n",
       "    .dataframe tbody tr th {\n",
       "        vertical-align: top;\n",
       "    }\n",
       "\n",
       "    .dataframe thead th {\n",
       "        text-align: right;\n",
       "    }\n",
       "</style>\n",
       "<table border=\"1\" class=\"dataframe\">\n",
       "  <thead>\n",
       "    <tr style=\"text-align: right;\">\n",
       "      <th></th>\n",
       "      <th>comment</th>\n",
       "      <th>toxic</th>\n",
       "      <th>comment_clear_text</th>\n",
       "    </tr>\n",
       "  </thead>\n",
       "  <tbody>\n",
       "    <tr>\n",
       "      <th>0</th>\n",
       "      <td>Верблюдов-то за что? Дебилы, бл...\\n</td>\n",
       "      <td>1</td>\n",
       "      <td>верблюдов то за что дебилы бл</td>\n",
       "    </tr>\n",
       "    <tr>\n",
       "      <th>1</th>\n",
       "      <td>Хохлы, это отдушина затюканого россиянина, мол...</td>\n",
       "      <td>1</td>\n",
       "      <td>хохлы это отдушина затюканого россиянина мол в...</td>\n",
       "    </tr>\n",
       "    <tr>\n",
       "      <th>2</th>\n",
       "      <td>Собаке - собачья смерть\\n</td>\n",
       "      <td>1</td>\n",
       "      <td>собаке собачья смерть</td>\n",
       "    </tr>\n",
       "    <tr>\n",
       "      <th>3</th>\n",
       "      <td>Страницу обнови, дебил. Это тоже не оскорблени...</td>\n",
       "      <td>1</td>\n",
       "      <td>страницу обнови дебил это тоже не оскорбление ...</td>\n",
       "    </tr>\n",
       "    <tr>\n",
       "      <th>4</th>\n",
       "      <td>тебя не убедил 6-страничный пдф в том, что Скр...</td>\n",
       "      <td>1</td>\n",
       "      <td>тебя не убедил страничный пдф в том что скрипа...</td>\n",
       "    </tr>\n",
       "  </tbody>\n",
       "</table>\n",
       "</div>"
      ],
      "text/plain": [
       "                                             comment  toxic  \\\n",
       "0               Верблюдов-то за что? Дебилы, бл...\\n      1   \n",
       "1  Хохлы, это отдушина затюканого россиянина, мол...      1   \n",
       "2                          Собаке - собачья смерть\\n      1   \n",
       "3  Страницу обнови, дебил. Это тоже не оскорблени...      1   \n",
       "4  тебя не убедил 6-страничный пдф в том, что Скр...      1   \n",
       "\n",
       "                                  comment_clear_text  \n",
       "0                      верблюдов то за что дебилы бл  \n",
       "1  хохлы это отдушина затюканого россиянина мол в...  \n",
       "2                              собаке собачья смерть  \n",
       "3  страницу обнови дебил это тоже не оскорбление ...  \n",
       "4  тебя не убедил страничный пдф в том что скрипа...  "
      ]
     },
     "execution_count": 240,
     "metadata": {},
     "output_type": "execute_result"
    }
   ],
   "source": [
    "data.head()"
   ]
  },
  {
   "cell_type": "code",
   "execution_count": 241,
   "metadata": {},
   "outputs": [],
   "source": [
    "stop_words = set(nltk.corpus.stopwords.words('russian'))\n",
    "def without_stopwords(text):\n",
    "    return ' '.join(word for word in text.split() if word not in stop_words)"
   ]
  },
  {
   "cell_type": "code",
   "execution_count": 242,
   "metadata": {},
   "outputs": [],
   "source": [
    "data['comment_without_stop_words'] = data['comment_clear_text'].apply(without_stopwords)"
   ]
  },
  {
   "cell_type": "code",
   "execution_count": 243,
   "metadata": {},
   "outputs": [],
   "source": [
    "def steming(text):\n",
    "    m = nltk.stem.SnowballStemmer('russian')\n",
    "    word_list = nltk.word_tokenize(text)\n",
    "    \n",
    "    return ' '.join(m.stem(w) for w in word_list)"
   ]
  },
  {
   "cell_type": "code",
   "execution_count": 244,
   "metadata": {},
   "outputs": [],
   "source": [
    "data['comment_steming'] = data['comment_clear_text'].apply(steming)"
   ]
  },
  {
   "cell_type": "code",
   "execution_count": 245,
   "metadata": {},
   "outputs": [],
   "source": [
    "from natasha import (\n",
    "    Segmenter,\n",
    "    MorphVocab,\n",
    "    NewsEmbedding,\n",
    "    NewsMorphTagger,\n",
    "    NewsSyntaxParser,\n",
    "    NewsNERTagger,\n",
    "    PER,\n",
    "    NamesExtractor,\n",
    "    Doc,\n",
    ")"
   ]
  },
  {
   "cell_type": "code",
   "execution_count": 246,
   "metadata": {},
   "outputs": [],
   "source": [
    "segmenter = Segmenter()\n",
    "morph_vocab = MorphVocab()\n",
    "emb = NewsEmbedding()\n",
    "morph_tagger = NewsMorphTagger(emb)\n",
    "syntax_parser = NewsSyntaxParser(emb)\n",
    "ner_tagger = NewsNERTagger(emb)\n",
    "names_extractor = NamesExtractor(morph_vocab)"
   ]
  },
  {
   "cell_type": "code",
   "execution_count": 247,
   "metadata": {},
   "outputs": [],
   "source": [
    "def lemmitizer(text):\n",
    "    doc = Doc(text)\n",
    "    doc.segment(segmenter)\n",
    "    doc.tag_morph(morph_tagger)\n",
    "    for token in doc.tokens:\n",
    "        token.lemmatize(morph_vocab)\n",
    "    return ' '.join(x.lemma for x in doc.tokens)"
   ]
  },
  {
   "cell_type": "code",
   "execution_count": 248,
   "metadata": {},
   "outputs": [],
   "source": [
    "data['comment_lemmitizer'] = data['comment_clear_text'].apply(lemmitizer)"
   ]
  },
  {
   "cell_type": "code",
   "execution_count": 249,
   "metadata": {},
   "outputs": [
    {
     "data": {
      "text/html": [
       "<div>\n",
       "<style scoped>\n",
       "    .dataframe tbody tr th:only-of-type {\n",
       "        vertical-align: middle;\n",
       "    }\n",
       "\n",
       "    .dataframe tbody tr th {\n",
       "        vertical-align: top;\n",
       "    }\n",
       "\n",
       "    .dataframe thead th {\n",
       "        text-align: right;\n",
       "    }\n",
       "</style>\n",
       "<table border=\"1\" class=\"dataframe\">\n",
       "  <thead>\n",
       "    <tr style=\"text-align: right;\">\n",
       "      <th></th>\n",
       "      <th>comment</th>\n",
       "      <th>toxic</th>\n",
       "      <th>comment_clear_text</th>\n",
       "      <th>comment_without_stop_words</th>\n",
       "      <th>comment_steming</th>\n",
       "      <th>comment_lemmitizer</th>\n",
       "    </tr>\n",
       "  </thead>\n",
       "  <tbody>\n",
       "    <tr>\n",
       "      <th>0</th>\n",
       "      <td>Верблюдов-то за что? Дебилы, бл...\\n</td>\n",
       "      <td>1</td>\n",
       "      <td>верблюдов то за что дебилы бл</td>\n",
       "      <td>верблюдов дебилы бл</td>\n",
       "      <td>верблюд то за что дебил бл</td>\n",
       "      <td>верблюд тот за что дебил бл</td>\n",
       "    </tr>\n",
       "    <tr>\n",
       "      <th>1</th>\n",
       "      <td>Хохлы, это отдушина затюканого россиянина, мол...</td>\n",
       "      <td>1</td>\n",
       "      <td>хохлы это отдушина затюканого россиянина мол в...</td>\n",
       "      <td>хохлы это отдушина затюканого россиянина мол в...</td>\n",
       "      <td>хохл эт отдушин затюкан россиянин мол вон а у ...</td>\n",
       "      <td>хохол это отдушина затюканый россиянин мол вон...</td>\n",
       "    </tr>\n",
       "    <tr>\n",
       "      <th>2</th>\n",
       "      <td>Собаке - собачья смерть\\n</td>\n",
       "      <td>1</td>\n",
       "      <td>собаке собачья смерть</td>\n",
       "      <td>собаке собачья смерть</td>\n",
       "      <td>собак собач смерт</td>\n",
       "      <td>собака собачий смерть</td>\n",
       "    </tr>\n",
       "    <tr>\n",
       "      <th>3</th>\n",
       "      <td>Страницу обнови, дебил. Это тоже не оскорблени...</td>\n",
       "      <td>1</td>\n",
       "      <td>страницу обнови дебил это тоже не оскорбление ...</td>\n",
       "      <td>страницу обнови дебил это оскорбление доказанн...</td>\n",
       "      <td>страниц обнов деб эт тож не оскорблен а доказа...</td>\n",
       "      <td>страница обнови дебил это тоже не оскорбление ...</td>\n",
       "    </tr>\n",
       "    <tr>\n",
       "      <th>4</th>\n",
       "      <td>тебя не убедил 6-страничный пдф в том, что Скр...</td>\n",
       "      <td>1</td>\n",
       "      <td>тебя не убедил страничный пдф в том что скрипа...</td>\n",
       "      <td>убедил страничный пдф скрипалей отравила росси...</td>\n",
       "      <td>теб не убед страничн пдф в том что скрипал отр...</td>\n",
       "      <td>ты не убедить страничный пдф в тот что скрипал...</td>\n",
       "    </tr>\n",
       "  </tbody>\n",
       "</table>\n",
       "</div>"
      ],
      "text/plain": [
       "                                             comment  toxic  \\\n",
       "0               Верблюдов-то за что? Дебилы, бл...\\n      1   \n",
       "1  Хохлы, это отдушина затюканого россиянина, мол...      1   \n",
       "2                          Собаке - собачья смерть\\n      1   \n",
       "3  Страницу обнови, дебил. Это тоже не оскорблени...      1   \n",
       "4  тебя не убедил 6-страничный пдф в том, что Скр...      1   \n",
       "\n",
       "                                  comment_clear_text  \\\n",
       "0                      верблюдов то за что дебилы бл   \n",
       "1  хохлы это отдушина затюканого россиянина мол в...   \n",
       "2                              собаке собачья смерть   \n",
       "3  страницу обнови дебил это тоже не оскорбление ...   \n",
       "4  тебя не убедил страничный пдф в том что скрипа...   \n",
       "\n",
       "                          comment_without_stop_words  \\\n",
       "0                                верблюдов дебилы бл   \n",
       "1  хохлы это отдушина затюканого россиянина мол в...   \n",
       "2                              собаке собачья смерть   \n",
       "3  страницу обнови дебил это оскорбление доказанн...   \n",
       "4  убедил страничный пдф скрипалей отравила росси...   \n",
       "\n",
       "                                     comment_steming  \\\n",
       "0                         верблюд то за что дебил бл   \n",
       "1  хохл эт отдушин затюкан россиянин мол вон а у ...   \n",
       "2                                  собак собач смерт   \n",
       "3  страниц обнов деб эт тож не оскорблен а доказа...   \n",
       "4  теб не убед страничн пдф в том что скрипал отр...   \n",
       "\n",
       "                                  comment_lemmitizer  \n",
       "0                        верблюд тот за что дебил бл  \n",
       "1  хохол это отдушина затюканый россиянин мол вон...  \n",
       "2                              собака собачий смерть  \n",
       "3  страница обнови дебил это тоже не оскорбление ...  \n",
       "4  ты не убедить страничный пдф в тот что скрипал...  "
      ]
     },
     "execution_count": 249,
     "metadata": {},
     "output_type": "execute_result"
    }
   ],
   "source": [
    "data.head()"
   ]
  },
  {
   "cell_type": "code",
   "execution_count": 250,
   "metadata": {},
   "outputs": [
    {
     "data": {
      "text/html": [
       "<div>\n",
       "<style scoped>\n",
       "    .dataframe tbody tr th:only-of-type {\n",
       "        vertical-align: middle;\n",
       "    }\n",
       "\n",
       "    .dataframe tbody tr th {\n",
       "        vertical-align: top;\n",
       "    }\n",
       "\n",
       "    .dataframe thead th {\n",
       "        text-align: right;\n",
       "    }\n",
       "</style>\n",
       "<table border=\"1\" class=\"dataframe\">\n",
       "  <thead>\n",
       "    <tr style=\"text-align: right;\">\n",
       "      <th></th>\n",
       "      <th>comment</th>\n",
       "      <th>toxic</th>\n",
       "      <th>comment_clear_text</th>\n",
       "      <th>comment_without_stop_words</th>\n",
       "      <th>comment_steming</th>\n",
       "      <th>comment_lemmitizer</th>\n",
       "    </tr>\n",
       "  </thead>\n",
       "  <tbody>\n",
       "    <tr>\n",
       "      <th>0</th>\n",
       "      <td>Верблюдов-то за что? Дебилы, бл...\\n</td>\n",
       "      <td>1</td>\n",
       "      <td>верблюдов то за что дебилы бл</td>\n",
       "      <td>верблюдов дебилы бл</td>\n",
       "      <td>верблюд то за что дебил бл</td>\n",
       "      <td>верблюд тот за что дебил бл</td>\n",
       "    </tr>\n",
       "    <tr>\n",
       "      <th>1</th>\n",
       "      <td>Хохлы, это отдушина затюканого россиянина, мол...</td>\n",
       "      <td>1</td>\n",
       "      <td>хохлы это отдушина затюканого россиянина мол в...</td>\n",
       "      <td>хохлы это отдушина затюканого россиянина мол в...</td>\n",
       "      <td>хохл эт отдушин затюкан россиянин мол вон а у ...</td>\n",
       "      <td>хохол это отдушина затюканый россиянин мол вон...</td>\n",
       "    </tr>\n",
       "    <tr>\n",
       "      <th>2</th>\n",
       "      <td>Собаке - собачья смерть\\n</td>\n",
       "      <td>1</td>\n",
       "      <td>собаке собачья смерть</td>\n",
       "      <td>собаке собачья смерть</td>\n",
       "      <td>собак собач смерт</td>\n",
       "      <td>собака собачий смерть</td>\n",
       "    </tr>\n",
       "    <tr>\n",
       "      <th>3</th>\n",
       "      <td>Страницу обнови, дебил. Это тоже не оскорблени...</td>\n",
       "      <td>1</td>\n",
       "      <td>страницу обнови дебил это тоже не оскорбление ...</td>\n",
       "      <td>страницу обнови дебил это оскорбление доказанн...</td>\n",
       "      <td>страниц обнов деб эт тож не оскорблен а доказа...</td>\n",
       "      <td>страница обнови дебил это тоже не оскорбление ...</td>\n",
       "    </tr>\n",
       "    <tr>\n",
       "      <th>4</th>\n",
       "      <td>тебя не убедил 6-страничный пдф в том, что Скр...</td>\n",
       "      <td>1</td>\n",
       "      <td>тебя не убедил страничный пдф в том что скрипа...</td>\n",
       "      <td>убедил страничный пдф скрипалей отравила росси...</td>\n",
       "      <td>теб не убед страничн пдф в том что скрипал отр...</td>\n",
       "      <td>ты не убедить страничный пдф в тот что скрипал...</td>\n",
       "    </tr>\n",
       "  </tbody>\n",
       "</table>\n",
       "</div>"
      ],
      "text/plain": [
       "                                             comment  toxic  \\\n",
       "0               Верблюдов-то за что? Дебилы, бл...\\n      1   \n",
       "1  Хохлы, это отдушина затюканого россиянина, мол...      1   \n",
       "2                          Собаке - собачья смерть\\n      1   \n",
       "3  Страницу обнови, дебил. Это тоже не оскорблени...      1   \n",
       "4  тебя не убедил 6-страничный пдф в том, что Скр...      1   \n",
       "\n",
       "                                  comment_clear_text  \\\n",
       "0                      верблюдов то за что дебилы бл   \n",
       "1  хохлы это отдушина затюканого россиянина мол в...   \n",
       "2                              собаке собачья смерть   \n",
       "3  страницу обнови дебил это тоже не оскорбление ...   \n",
       "4  тебя не убедил страничный пдф в том что скрипа...   \n",
       "\n",
       "                          comment_without_stop_words  \\\n",
       "0                                верблюдов дебилы бл   \n",
       "1  хохлы это отдушина затюканого россиянина мол в...   \n",
       "2                              собаке собачья смерть   \n",
       "3  страницу обнови дебил это оскорбление доказанн...   \n",
       "4  убедил страничный пдф скрипалей отравила росси...   \n",
       "\n",
       "                                     comment_steming  \\\n",
       "0                         верблюд то за что дебил бл   \n",
       "1  хохл эт отдушин затюкан россиянин мол вон а у ...   \n",
       "2                                  собак собач смерт   \n",
       "3  страниц обнов деб эт тож не оскорблен а доказа...   \n",
       "4  теб не убед страничн пдф в том что скрипал отр...   \n",
       "\n",
       "                                  comment_lemmitizer  \n",
       "0                        верблюд тот за что дебил бл  \n",
       "1  хохол это отдушина затюканый россиянин мол вон...  \n",
       "2                              собака собачий смерть  \n",
       "3  страница обнови дебил это тоже не оскорбление ...  \n",
       "4  ты не убедить страничный пдф в тот что скрипал...  "
      ]
     },
     "execution_count": 250,
     "metadata": {},
     "output_type": "execute_result"
    }
   ],
   "source": [
    "data.head()"
   ]
  },
  {
   "cell_type": "code",
   "execution_count": 251,
   "metadata": {},
   "outputs": [
    {
     "data": {
      "text/plain": [
       "0                          верблюд тот за что дебил бл\n",
       "1    хохол это отдушина затюканый россиянин мол вон...\n",
       "2                                собака собачий смерть\n",
       "3    страница обнови дебил это тоже не оскорбление ...\n",
       "4    ты не убедить страничный пдф в тот что скрипал...\n",
       "Name: comment_lemmitizer, dtype: object"
      ]
     },
     "execution_count": 251,
     "metadata": {},
     "output_type": "execute_result"
    }
   ],
   "source": [
    "data['comment_lemmitizer'].head()"
   ]
  },
  {
   "cell_type": "code",
   "execution_count": 252,
   "metadata": {},
   "outputs": [],
   "source": [
    "bad_words = bad_words['bad_words'].values"
   ]
  },
  {
   "cell_type": "code",
   "execution_count": 253,
   "metadata": {},
   "outputs": [
    {
     "data": {
      "text/plain": [
       "array(['spam', 'аборт', 'анус', ..., 'шмара', 'шмарить', 'шмариться'],\n",
       "      dtype=object)"
      ]
     },
     "execution_count": 253,
     "metadata": {},
     "output_type": "execute_result"
    }
   ],
   "source": [
    "bad_words"
   ]
  },
  {
   "cell_type": "code",
   "execution_count": 254,
   "metadata": {},
   "outputs": [],
   "source": [
    "def bad_words_in_list(text):\n",
    "    if [word for word in text.split() if word in bad_words]:\n",
    "        return True\n",
    "    return False"
   ]
  },
  {
   "cell_type": "code",
   "execution_count": 255,
   "metadata": {},
   "outputs": [],
   "source": [
    "data['comment_with_bad_words'] = data['comment_lemmitizer'].apply(bad_words_in_list)"
   ]
  },
  {
   "cell_type": "code",
   "execution_count": 256,
   "metadata": {},
   "outputs": [
    {
     "data": {
      "text/html": [
       "<div>\n",
       "<style scoped>\n",
       "    .dataframe tbody tr th:only-of-type {\n",
       "        vertical-align: middle;\n",
       "    }\n",
       "\n",
       "    .dataframe tbody tr th {\n",
       "        vertical-align: top;\n",
       "    }\n",
       "\n",
       "    .dataframe thead th {\n",
       "        text-align: right;\n",
       "    }\n",
       "</style>\n",
       "<table border=\"1\" class=\"dataframe\">\n",
       "  <thead>\n",
       "    <tr style=\"text-align: right;\">\n",
       "      <th></th>\n",
       "      <th>comment</th>\n",
       "      <th>toxic</th>\n",
       "      <th>comment_clear_text</th>\n",
       "      <th>comment_without_stop_words</th>\n",
       "      <th>comment_steming</th>\n",
       "      <th>comment_lemmitizer</th>\n",
       "      <th>comment_with_bad_words</th>\n",
       "    </tr>\n",
       "  </thead>\n",
       "  <tbody>\n",
       "    <tr>\n",
       "      <th>0</th>\n",
       "      <td>Верблюдов-то за что? Дебилы, бл...\\n</td>\n",
       "      <td>1</td>\n",
       "      <td>верблюдов то за что дебилы бл</td>\n",
       "      <td>верблюдов дебилы бл</td>\n",
       "      <td>верблюд то за что дебил бл</td>\n",
       "      <td>верблюд тот за что дебил бл</td>\n",
       "      <td>False</td>\n",
       "    </tr>\n",
       "    <tr>\n",
       "      <th>1</th>\n",
       "      <td>Хохлы, это отдушина затюканого россиянина, мол...</td>\n",
       "      <td>1</td>\n",
       "      <td>хохлы это отдушина затюканого россиянина мол в...</td>\n",
       "      <td>хохлы это отдушина затюканого россиянина мол в...</td>\n",
       "      <td>хохл эт отдушин затюкан россиянин мол вон а у ...</td>\n",
       "      <td>хохол это отдушина затюканый россиянин мол вон...</td>\n",
       "      <td>False</td>\n",
       "    </tr>\n",
       "    <tr>\n",
       "      <th>2</th>\n",
       "      <td>Собаке - собачья смерть\\n</td>\n",
       "      <td>1</td>\n",
       "      <td>собаке собачья смерть</td>\n",
       "      <td>собаке собачья смерть</td>\n",
       "      <td>собак собач смерт</td>\n",
       "      <td>собака собачий смерть</td>\n",
       "      <td>False</td>\n",
       "    </tr>\n",
       "    <tr>\n",
       "      <th>3</th>\n",
       "      <td>Страницу обнови, дебил. Это тоже не оскорблени...</td>\n",
       "      <td>1</td>\n",
       "      <td>страницу обнови дебил это тоже не оскорбление ...</td>\n",
       "      <td>страницу обнови дебил это оскорбление доказанн...</td>\n",
       "      <td>страниц обнов деб эт тож не оскорблен а доказа...</td>\n",
       "      <td>страница обнови дебил это тоже не оскорбление ...</td>\n",
       "      <td>False</td>\n",
       "    </tr>\n",
       "    <tr>\n",
       "      <th>4</th>\n",
       "      <td>тебя не убедил 6-страничный пдф в том, что Скр...</td>\n",
       "      <td>1</td>\n",
       "      <td>тебя не убедил страничный пдф в том что скрипа...</td>\n",
       "      <td>убедил страничный пдф скрипалей отравила росси...</td>\n",
       "      <td>теб не убед страничн пдф в том что скрипал отр...</td>\n",
       "      <td>ты не убедить страничный пдф в тот что скрипал...</td>\n",
       "      <td>False</td>\n",
       "    </tr>\n",
       "  </tbody>\n",
       "</table>\n",
       "</div>"
      ],
      "text/plain": [
       "                                             comment  toxic  \\\n",
       "0               Верблюдов-то за что? Дебилы, бл...\\n      1   \n",
       "1  Хохлы, это отдушина затюканого россиянина, мол...      1   \n",
       "2                          Собаке - собачья смерть\\n      1   \n",
       "3  Страницу обнови, дебил. Это тоже не оскорблени...      1   \n",
       "4  тебя не убедил 6-страничный пдф в том, что Скр...      1   \n",
       "\n",
       "                                  comment_clear_text  \\\n",
       "0                      верблюдов то за что дебилы бл   \n",
       "1  хохлы это отдушина затюканого россиянина мол в...   \n",
       "2                              собаке собачья смерть   \n",
       "3  страницу обнови дебил это тоже не оскорбление ...   \n",
       "4  тебя не убедил страничный пдф в том что скрипа...   \n",
       "\n",
       "                          comment_without_stop_words  \\\n",
       "0                                верблюдов дебилы бл   \n",
       "1  хохлы это отдушина затюканого россиянина мол в...   \n",
       "2                              собаке собачья смерть   \n",
       "3  страницу обнови дебил это оскорбление доказанн...   \n",
       "4  убедил страничный пдф скрипалей отравила росси...   \n",
       "\n",
       "                                     comment_steming  \\\n",
       "0                         верблюд то за что дебил бл   \n",
       "1  хохл эт отдушин затюкан россиянин мол вон а у ...   \n",
       "2                                  собак собач смерт   \n",
       "3  страниц обнов деб эт тож не оскорблен а доказа...   \n",
       "4  теб не убед страничн пдф в том что скрипал отр...   \n",
       "\n",
       "                                  comment_lemmitizer  comment_with_bad_words  \n",
       "0                        верблюд тот за что дебил бл                   False  \n",
       "1  хохол это отдушина затюканый россиянин мол вон...                   False  \n",
       "2                              собака собачий смерть                   False  \n",
       "3  страница обнови дебил это тоже не оскорбление ...                   False  \n",
       "4  ты не убедить страничный пдф в тот что скрипал...                   False  "
      ]
     },
     "execution_count": 256,
     "metadata": {},
     "output_type": "execute_result"
    }
   ],
   "source": [
    "data.head()"
   ]
  },
  {
   "cell_type": "code",
   "execution_count": 257,
   "metadata": {},
   "outputs": [
    {
     "data": {
      "text/plain": [
       "33393"
      ]
     },
     "execution_count": 257,
     "metadata": {},
     "output_type": "execute_result"
    }
   ],
   "source": [
    "sum(data['toxic']==True)"
   ]
  },
  {
   "cell_type": "code",
   "execution_count": 258,
   "metadata": {},
   "outputs": [],
   "source": [
    "TP = (data[(data['toxic'] == True) & (data['comment_with_bad_words']==True)])['toxic'].count()\n",
    "TN = (data[(data['toxic'] == False) & (data['comment_with_bad_words']==True)])['toxic'].count()\n",
    "FP = (data[(data['toxic'] == False) & (data['comment_with_bad_words']==True)])['toxic'].count()\n",
    "FN = (data[(data['toxic'] == True) & (data['comment_with_bad_words']==False)])['toxic'].count()"
   ]
  },
  {
   "cell_type": "code",
   "execution_count": 259,
   "metadata": {},
   "outputs": [
    {
     "data": {
      "text/plain": [
       "0.607804167732541"
      ]
     },
     "execution_count": 259,
     "metadata": {},
     "output_type": "execute_result"
    }
   ],
   "source": [
    "Recall = TP/(TP+FN)\n",
    "Precision = TP/(TP+FP)\n",
    "F1 = (2*Precision*Recall)/(Precision+Recall)\n",
    "F1"
   ]
  },
  {
   "cell_type": "code",
   "execution_count": 260,
   "metadata": {},
   "outputs": [],
   "source": [
    "final_result={}\n",
    "final_result['model_only_badword_in_token']=F1"
   ]
  },
  {
   "cell_type": "code",
   "execution_count": 261,
   "metadata": {},
   "outputs": [
    {
     "data": {
      "text/plain": [
       "{'model_only_badword_in_token': 0.607804167732541}"
      ]
     },
     "execution_count": 261,
     "metadata": {},
     "output_type": "execute_result"
    }
   ],
   "source": [
    "final_result"
   ]
  },
  {
   "cell_type": "markdown",
   "metadata": {},
   "source": [
    "# TRAIN"
   ]
  },
  {
   "cell_type": "code",
   "execution_count": 262,
   "metadata": {},
   "outputs": [],
   "source": [
    "X_steming = data['comment_steming'].values.astype('U')\n",
    "X_lemmitizer = data['comment_lemmitizer'].values.astype('U')\n",
    "y = data['toxic']"
   ]
  },
  {
   "cell_type": "code",
   "execution_count": 263,
   "metadata": {},
   "outputs": [],
   "source": [
    "#Разделим даные 80/20, перекрестная проверка 5*2\n",
    "X_train_steming,X_test_steming,y_train,y_test=train_test_split(X_steming,y,\n",
    "                                               test_size=0.2,\n",
    "                                              random_state=42,\n",
    "                                              stratify=y)"
   ]
  },
  {
   "cell_type": "code",
   "execution_count": 264,
   "metadata": {},
   "outputs": [],
   "source": [
    "X_train_lemmitizer,X_test_lemmitizer,y_train,y_test=train_test_split(X_lemmitizer,y,\n",
    "                                               test_size=0.2,\n",
    "                                              random_state=42,\n",
    "                                              stratify=y)"
   ]
  },
  {
   "cell_type": "code",
   "execution_count": 265,
   "metadata": {},
   "outputs": [],
   "source": [
    "count_tf_idf_steming = TfidfVectorizer(stop_words=list(stop_words), ngram_range=(1,1))\n",
    "count_tf_id_lemmitizer = TfidfVectorizer(stop_words=list(stop_words), ngram_range=(1,1))"
   ]
  },
  {
   "cell_type": "code",
   "execution_count": 266,
   "metadata": {},
   "outputs": [],
   "source": [
    "X_train_tf_idf_steming = count_tf_idf_steming.fit_transform(X_train_steming)\n",
    "X_test_tf_idf_steming = count_tf_idf_steming.transform(X_test_steming)"
   ]
  },
  {
   "cell_type": "code",
   "execution_count": 267,
   "metadata": {},
   "outputs": [],
   "source": [
    "X_train_tf_idf_lemmitizer = count_tf_id_lemmitizer.fit_transform(X_train_lemmitizer)\n",
    "X_test_tf_idf_lemmitizer = count_tf_id_lemmitizer.transform(X_test_lemmitizer)"
   ]
  },
  {
   "cell_type": "code",
   "execution_count": 268,
   "metadata": {},
   "outputs": [
    {
     "name": "stdout",
     "output_type": "stream",
     "text": [
      "LogisticRegression(class_weight='balanced', random_state=42)\n",
      "DecisionTreeClassifier(class_weight='balanced', random_state=42)\n",
      "RandomForestClassifier(class_weight='balanced', random_state=42)\n",
      "SGDClassifier(class_weight='balanced', random_state=42)\n"
     ]
    }
   ],
   "source": [
    "for i in (LogisticRegression, DecisionTreeClassifier, RandomForestClassifier, SGDClassifier):\n",
    "    print(i(random_state=42,class_weight='balanced'))"
   ]
  },
  {
   "cell_type": "code",
   "execution_count": 269,
   "metadata": {},
   "outputs": [],
   "source": [
    "def piplene_(data_train_stem,data_train_lem, data_text_stem, data_test_lem, y_train,y_test, random_state=42, class_weight='balanced'):\n",
    "    result = {}\n",
    "    models = (LogisticRegression, DecisionTreeClassifier, RandomForestClassifier, SGDClassifier)\n",
    "    for model in tqdm(models):\n",
    "        model_stem=model(random_state = random_state, class_weight=class_weight)\n",
    "        model_stem.fit(data_train_stem,y_train)\n",
    "        predictions=model_stem.predict(data_text_stem)\n",
    "        result_f1 = f1_score(y_test, predictions)\n",
    "        result[f'{model_stem.__class__.__name__}_steming']=result_f1\n",
    "        model_lem = model(random_state = random_state, class_weight=class_weight)\n",
    "        model_lem.fit(data_train_lem,y_train)\n",
    "        predictions=model_lem.predict(data_test_lem)\n",
    "        result_f1 = f1_score(y_test, predictions)\n",
    "        result[f'{model_lem.__class__.__name__}_lemmatizing']=result_f1\n",
    "    return result\n",
    "        "
   ]
  },
  {
   "cell_type": "code",
   "execution_count": 270,
   "metadata": {},
   "outputs": [
    {
     "name": "stderr",
     "output_type": "stream",
     "text": [
      "  0%|          | 0/4 [00:00<?, ?it/s]"
     ]
    },
    {
     "name": "stderr",
     "output_type": "stream",
     "text": [
      "100%|██████████| 4/4 [28:29<00:00, 427.30s/it]\n"
     ]
    }
   ],
   "source": [
    "result = piplene_(\n",
    "    data_train_stem=X_train_tf_idf_steming,\n",
    "    data_train_lem=X_train_tf_idf_lemmitizer,\n",
    "    data_text_stem=X_test_tf_idf_steming,\n",
    "    data_test_lem=X_test_tf_idf_lemmitizer,\n",
    "    y_train=y_train,\n",
    "    y_test=y_test,\n",
    "    random_state=42,\n",
    "    class_weight='balanced',\n",
    "    )\n"
   ]
  },
  {
   "cell_type": "code",
   "execution_count": 271,
   "metadata": {},
   "outputs": [],
   "source": [
    "final_result = {**result,**final_result}"
   ]
  },
  {
   "cell_type": "code",
   "execution_count": 272,
   "metadata": {},
   "outputs": [
    {
     "data": {
      "text/html": [
       "<div>\n",
       "<style scoped>\n",
       "    .dataframe tbody tr th:only-of-type {\n",
       "        vertical-align: middle;\n",
       "    }\n",
       "\n",
       "    .dataframe tbody tr th {\n",
       "        vertical-align: top;\n",
       "    }\n",
       "\n",
       "    .dataframe thead th {\n",
       "        text-align: right;\n",
       "    }\n",
       "</style>\n",
       "<table border=\"1\" class=\"dataframe\">\n",
       "  <thead>\n",
       "    <tr style=\"text-align: right;\">\n",
       "      <th></th>\n",
       "      <th>F1</th>\n",
       "    </tr>\n",
       "  </thead>\n",
       "  <tbody>\n",
       "    <tr>\n",
       "      <th>LogisticRegression_steming</th>\n",
       "      <td>0.842714</td>\n",
       "    </tr>\n",
       "    <tr>\n",
       "      <th>SGDClassifier_steming</th>\n",
       "      <td>0.832508</td>\n",
       "    </tr>\n",
       "    <tr>\n",
       "      <th>LogisticRegression_lemmatizing</th>\n",
       "      <td>0.827766</td>\n",
       "    </tr>\n",
       "    <tr>\n",
       "      <th>RandomForestClassifier_steming</th>\n",
       "      <td>0.819532</td>\n",
       "    </tr>\n",
       "    <tr>\n",
       "      <th>RandomForestClassifier_lemmatizing</th>\n",
       "      <td>0.817197</td>\n",
       "    </tr>\n",
       "    <tr>\n",
       "      <th>SGDClassifier_lemmatizing</th>\n",
       "      <td>0.809935</td>\n",
       "    </tr>\n",
       "    <tr>\n",
       "      <th>DecisionTreeClassifier_steming</th>\n",
       "      <td>0.779478</td>\n",
       "    </tr>\n",
       "    <tr>\n",
       "      <th>DecisionTreeClassifier_lemmatizing</th>\n",
       "      <td>0.777514</td>\n",
       "    </tr>\n",
       "    <tr>\n",
       "      <th>model_only_badword_in_token</th>\n",
       "      <td>0.607804</td>\n",
       "    </tr>\n",
       "  </tbody>\n",
       "</table>\n",
       "</div>"
      ],
      "text/plain": [
       "                                          F1\n",
       "LogisticRegression_steming          0.842714\n",
       "SGDClassifier_steming               0.832508\n",
       "LogisticRegression_lemmatizing      0.827766\n",
       "RandomForestClassifier_steming      0.819532\n",
       "RandomForestClassifier_lemmatizing  0.817197\n",
       "SGDClassifier_lemmatizing           0.809935\n",
       "DecisionTreeClassifier_steming      0.779478\n",
       "DecisionTreeClassifier_lemmatizing  0.777514\n",
       "model_only_badword_in_token         0.607804"
      ]
     },
     "execution_count": 272,
     "metadata": {},
     "output_type": "execute_result"
    }
   ],
   "source": [
    "data_result=pd.DataFrame.from_dict(final_result, orient='index', columns=['F1']).sort_values('F1', ascending=False)\n",
    "data_result"
   ]
  },
  {
   "cell_type": "markdown",
   "metadata": {},
   "source": [
    "# Вывод:"
   ]
  },
  {
   "cell_type": "markdown",
   "metadata": {},
   "source": [
    "- Лучшая модель c параметрами по умолчанию: LogisticRegression_steming, SGDClassifier_steming\n",
    "- При использовании процесса предобработки текста стминг, получено лучше результаты чем при использовании леммитизации увсех использеумых моделей. \n",
    "- Стемин имеет меньшую вычислительную сложность чем лемитизация.\n",
    "- Использовании в простых моделей процесса предобработки стемминг предпочтительно.\n",
    "- модель model_only_badword_in_token показала еффективность болеее 0,5, но требующая значительных вычислительных затран для предобработки.\n",
    "- В дальнейшем использовать две модеди для подбора гиперпараметров  с использованием GridSearchCV.\n",
    "- Полученную модель обучить и использовать для классификации новых данных с поледующем обучением на всей выборке, или использовать метод .partial_fit."
   ]
  },
  {
   "cell_type": "code",
   "execution_count": 273,
   "metadata": {},
   "outputs": [
    {
     "name": "stdout",
     "output_type": "stream",
     "text": [
      "Fitting 2 folds for each of 7 candidates, totalling 14 fits\n",
      "Fitting 2 folds for each of 7 candidates, totalling 14 fits\n",
      "Fitting 2 folds for each of 7 candidates, totalling 14 fits\n",
      "Точность перекрестной проверки:0.835+/-0.000\n",
      "LogisticRegression F1:0.850\n"
     ]
    }
   ],
   "source": [
    "model=LogisticRegression(random_state=42,class_weight='balanced')\n",
    "parameters = [{'solver': ['saga']},\n",
    "              {'penalty':['l2']},\n",
    "              {'C':[0.1, 1, 10, 15, 50]}]\n",
    "CV_LR = GridSearchCV(model,parameters,\n",
    "                  n_jobs=-1, \n",
    "                  scoring = 'f1',\n",
    "                  cv=2,\n",
    "                  verbose=1)\n",
    "\n",
    "CV_LR.fit(X_train_tf_idf_steming, y_train)  \n",
    "scores = cross_val_score(CV_LR,X_train_tf_idf_steming,y_train,scoring ='f1', cv = 2)\n",
    "predictions=CV_LR.predict(X_test_tf_idf_steming)\n",
    "result_f1 = f1_score(y_test, predictions)\n",
    "print(f'Точность перекрестной проверки:{np.mean(scores):.3f}+/-{np.std(scores):.3f}')\n",
    "print(f'{model.__class__.__name__} F1:{result_f1:.3f}')"
   ]
  },
  {
   "cell_type": "code",
   "execution_count": 274,
   "metadata": {},
   "outputs": [
    {
     "data": {
      "text/plain": [
       "{'C': 15}"
      ]
     },
     "execution_count": 274,
     "metadata": {},
     "output_type": "execute_result"
    }
   ],
   "source": [
    "CV_LR.best_params_"
   ]
  },
  {
   "cell_type": "code",
   "execution_count": 276,
   "metadata": {},
   "outputs": [
    {
     "name": "stdout",
     "output_type": "stream",
     "text": [
      "Fitting 2 folds for each of 27 candidates, totalling 54 fits\n"
     ]
    },
    {
     "name": "stdout",
     "output_type": "stream",
     "text": [
      "Fitting 2 folds for each of 27 candidates, totalling 54 fits\n",
      "Fitting 2 folds for each of 27 candidates, totalling 54 fits\n",
      "Точность перекрестной проверки:0.836+/-0.003\n",
      "F1 на тестовой выборке: 0.854\n"
     ]
    }
   ],
   "source": [
    "model = SGDClassifier(random_state=42,class_weight='balanced')\n",
    "parameters = {\n",
    "    'loss':['hinge', 'log_loss', 'epsilon_insensitive'],\n",
    "    'max_iter':[100, 150, 300],\n",
    "    'alpha':[0.00001,0.0001,0.001],\n",
    "    }\n",
    "CV_SGD = GridSearchCV(model,parameters ,n_jobs=-1, scoring = 'f1',cv=2, verbose=1)\n",
    "CV_SGD.fit(X_train_tf_idf_steming,y_train)\n",
    "scores = cross_val_score(CV_SGD,X_train_tf_idf_steming,y_train,scoring ='f1', cv = 2)\n",
    "predictions=CV_SGD.predict(X_test_tf_idf_steming)\n",
    "result_f1 = f1_score(y_test, predictions)\n",
    "print(f'Точность перекрестной проверки:{np.mean(scores):.3f}+/-{np.std(scores):.3f}')\n",
    "print(f'F1 на тестовой выборке: {result_f1:.3f}')"
   ]
  },
  {
   "cell_type": "code",
   "execution_count": null,
   "metadata": {},
   "outputs": [
    {
     "data": {
      "text/plain": [
       "{'alpha': 1e-05, 'loss': 'hinge', 'max_iter': 100}"
      ]
     },
     "execution_count": 190,
     "metadata": {},
     "output_type": "execute_result"
    }
   ],
   "source": [
    "CV_SGD.best_params_"
   ]
  },
  {
   "cell_type": "markdown",
   "metadata": {},
   "source": [
    "# В последующем лучюую модель можно использовать для классификации текста."
   ]
  },
  {
   "cell_type": "code",
   "execution_count": 277,
   "metadata": {},
   "outputs": [],
   "source": [
    "def piplene_main(text):\n",
    "    text = clear_text(text)\n",
    "    text = without_stopwords(text)\n",
    "    text = [steming(text)]\n",
    "    result = count_tf_idf_steming.transform(text)\n",
    "    return result\n"
   ]
  },
  {
   "cell_type": "code",
   "execution_count": 287,
   "metadata": {},
   "outputs": [
    {
     "data": {
      "text/plain": [
       "array([0], dtype=int8)"
      ]
     },
     "execution_count": 287,
     "metadata": {},
     "output_type": "execute_result"
    }
   ],
   "source": [
    "text = 'Пример текста обработки'\n",
    "x = piplene_main(text)\n",
    "CV_SGD.predict(x)"
   ]
  },
  {
   "cell_type": "code",
   "execution_count": 288,
   "metadata": {},
   "outputs": [
    {
     "data": {
      "text/plain": [
       "array([[0.98332526, 0.01667474]])"
      ]
     },
     "execution_count": 288,
     "metadata": {},
     "output_type": "execute_result"
    }
   ],
   "source": [
    "CV_LR.predict_proba(x)"
   ]
  },
  {
   "cell_type": "code",
   "execution_count": 300,
   "metadata": {},
   "outputs": [
    {
     "data": {
      "text/plain": [
       "array([1], dtype=int8)"
      ]
     },
     "execution_count": 300,
     "metadata": {},
     "output_type": "execute_result"
    }
   ],
   "source": [
    "text = 'гнида это насекомое'\n",
    "x = piplene_main(text)\n",
    "CV_SGD.predict(x)"
   ]
  },
  {
   "cell_type": "code",
   "execution_count": 301,
   "metadata": {},
   "outputs": [
    {
     "data": {
      "text/plain": [
       "array([[4.38562304e-04, 9.99561438e-01]])"
      ]
     },
     "execution_count": 301,
     "metadata": {},
     "output_type": "execute_result"
    }
   ],
   "source": [
    "CV_LR.predict_proba(x)"
   ]
  }
 ],
 "metadata": {
  "kernelspec": {
   "display_name": "venv",
   "language": "python",
   "name": "python3"
  },
  "language_info": {
   "codemirror_mode": {
    "name": "ipython",
    "version": 3
   },
   "file_extension": ".py",
   "mimetype": "text/x-python",
   "name": "python",
   "nbconvert_exporter": "python",
   "pygments_lexer": "ipython3",
   "version": "3.10.12"
  }
 },
 "nbformat": 4,
 "nbformat_minor": 2
}
